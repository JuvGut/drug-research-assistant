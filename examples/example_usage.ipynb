# Drug Research Assistant - Example Usage

This notebook demonstrates how to use the Drug Research Assistant for analyzing drug data.

## Setup
```python
import sys
sys.path.append('../src')

from drug_research_assistant import DrugResearchAssistant
import pandas as pd
```

## Initialize Assistant
```python
assistant = DrugResearchAssistant()
```

## Basic Drug Analysis
```python
# Analyze a drug
drug_name = "imatinib"
smiles = "CC1=C(C=C(C=C1)NC(=O)C2=CC=C(C=C2)CN3CCN(CC3)C)NC4=NC=CC(=N4)C5=CN=CC=C5"

# Fetch drug data
drug_data = await assistant.fetch_drug_data(drug_name)

# Analyze molecular properties
mol_properties = assistant.analyze_molecular_properties(smiles)

# Display results
print("Drug Data:", drug_data)
print("\nMolecular Properties:", mol_properties)
```

## Export Results
```python
# Export to CSV
csv_data = assistant.export_data(drug_data, 'csv')
with open('drug_analysis.csv', 'wb') as f:
    f.write(csv_data)
```

## Advanced Analysis
```python
# Analyze multiple aspects
analysis_results = {}
for analysis_type in ["mechanism of action", "clinical trials summary", "adverse effects"]:
    results = assistant.analyze_drug(drug_name, analysis_type)
    analysis_results[analysis_type] = results

# Generate comprehensive report
report = assistant.generate_report(drug_name, analysis_results)
print(report)
```